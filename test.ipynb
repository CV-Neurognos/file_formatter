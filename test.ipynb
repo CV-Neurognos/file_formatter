{
 "cells": [
  {
   "cell_type": "code",
   "execution_count": 25,
   "id": "1f7ac36f-2cd3-4fd6-a72d-d0d0521c8781",
   "metadata": {},
   "outputs": [],
   "source": [
    "import pandas as pd\n",
    "import numpy as np"
   ]
  },
  {
   "cell_type": "code",
   "execution_count": 26,
   "id": "4afaefb8-3912-4937-ad57-de4ecfa85291",
   "metadata": {},
   "outputs": [],
   "source": [
    "novus_output = pd.read_excel('output Novus.xls' , skiprows=1)"
   ]
  },
  {
   "cell_type": "code",
   "execution_count": 24,
   "id": "5d300970-ef1e-4b3f-83cb-6c954fc83f37",
   "metadata": {},
   "outputs": [
    {
     "ename": "FileNotFoundError",
     "evalue": "[Errno 2] No such file or directory: 'examplebulkdata.xls'",
     "output_type": "error",
     "traceback": [
      "\u001b[1;31m---------------------------------------------------------------------------\u001b[0m",
      "\u001b[1;31mFileNotFoundError\u001b[0m                         Traceback (most recent call last)",
      "\u001b[1;32m<ipython-input-24-48c9d036722b>\u001b[0m in \u001b[0;36m<module>\u001b[1;34m\u001b[0m\n\u001b[1;32m----> 1\u001b[1;33m \u001b[0mtested_input\u001b[0m \u001b[1;33m=\u001b[0m \u001b[0mpd\u001b[0m\u001b[1;33m.\u001b[0m\u001b[0mread_excel\u001b[0m\u001b[1;33m(\u001b[0m\u001b[1;34m'examplebulkdata.xls'\u001b[0m\u001b[1;33m)\u001b[0m\u001b[1;33m\u001b[0m\u001b[1;33m\u001b[0m\u001b[0m\n\u001b[0m",
      "\u001b[1;32mC:\\ProgramData\\Anaconda3\\lib\\site-packages\\pandas\\util\\_decorators.py\u001b[0m in \u001b[0;36mwrapper\u001b[1;34m(*args, **kwargs)\u001b[0m\n\u001b[0;32m    297\u001b[0m                 )\n\u001b[0;32m    298\u001b[0m                 \u001b[0mwarnings\u001b[0m\u001b[1;33m.\u001b[0m\u001b[0mwarn\u001b[0m\u001b[1;33m(\u001b[0m\u001b[0mmsg\u001b[0m\u001b[1;33m,\u001b[0m \u001b[0mFutureWarning\u001b[0m\u001b[1;33m,\u001b[0m \u001b[0mstacklevel\u001b[0m\u001b[1;33m=\u001b[0m\u001b[0mstacklevel\u001b[0m\u001b[1;33m)\u001b[0m\u001b[1;33m\u001b[0m\u001b[1;33m\u001b[0m\u001b[0m\n\u001b[1;32m--> 299\u001b[1;33m             \u001b[1;32mreturn\u001b[0m \u001b[0mfunc\u001b[0m\u001b[1;33m(\u001b[0m\u001b[1;33m*\u001b[0m\u001b[0margs\u001b[0m\u001b[1;33m,\u001b[0m \u001b[1;33m**\u001b[0m\u001b[0mkwargs\u001b[0m\u001b[1;33m)\u001b[0m\u001b[1;33m\u001b[0m\u001b[1;33m\u001b[0m\u001b[0m\n\u001b[0m\u001b[0;32m    300\u001b[0m \u001b[1;33m\u001b[0m\u001b[0m\n\u001b[0;32m    301\u001b[0m         \u001b[1;32mreturn\u001b[0m \u001b[0mwrapper\u001b[0m\u001b[1;33m\u001b[0m\u001b[1;33m\u001b[0m\u001b[0m\n",
      "\u001b[1;32mC:\\ProgramData\\Anaconda3\\lib\\site-packages\\pandas\\io\\excel\\_base.py\u001b[0m in \u001b[0;36mread_excel\u001b[1;34m(io, sheet_name, header, names, index_col, usecols, squeeze, dtype, engine, converters, true_values, false_values, skiprows, nrows, na_values, keep_default_na, na_filter, verbose, parse_dates, date_parser, thousands, comment, skipfooter, convert_float, mangle_dupe_cols, storage_options)\u001b[0m\n\u001b[0;32m    334\u001b[0m     \u001b[1;32mif\u001b[0m \u001b[1;32mnot\u001b[0m \u001b[0misinstance\u001b[0m\u001b[1;33m(\u001b[0m\u001b[0mio\u001b[0m\u001b[1;33m,\u001b[0m \u001b[0mExcelFile\u001b[0m\u001b[1;33m)\u001b[0m\u001b[1;33m:\u001b[0m\u001b[1;33m\u001b[0m\u001b[1;33m\u001b[0m\u001b[0m\n\u001b[0;32m    335\u001b[0m         \u001b[0mshould_close\u001b[0m \u001b[1;33m=\u001b[0m \u001b[1;32mTrue\u001b[0m\u001b[1;33m\u001b[0m\u001b[1;33m\u001b[0m\u001b[0m\n\u001b[1;32m--> 336\u001b[1;33m         \u001b[0mio\u001b[0m \u001b[1;33m=\u001b[0m \u001b[0mExcelFile\u001b[0m\u001b[1;33m(\u001b[0m\u001b[0mio\u001b[0m\u001b[1;33m,\u001b[0m \u001b[0mstorage_options\u001b[0m\u001b[1;33m=\u001b[0m\u001b[0mstorage_options\u001b[0m\u001b[1;33m,\u001b[0m \u001b[0mengine\u001b[0m\u001b[1;33m=\u001b[0m\u001b[0mengine\u001b[0m\u001b[1;33m)\u001b[0m\u001b[1;33m\u001b[0m\u001b[1;33m\u001b[0m\u001b[0m\n\u001b[0m\u001b[0;32m    337\u001b[0m     \u001b[1;32melif\u001b[0m \u001b[0mengine\u001b[0m \u001b[1;32mand\u001b[0m \u001b[0mengine\u001b[0m \u001b[1;33m!=\u001b[0m \u001b[0mio\u001b[0m\u001b[1;33m.\u001b[0m\u001b[0mengine\u001b[0m\u001b[1;33m:\u001b[0m\u001b[1;33m\u001b[0m\u001b[1;33m\u001b[0m\u001b[0m\n\u001b[0;32m    338\u001b[0m         raise ValueError(\n",
      "\u001b[1;32mC:\\ProgramData\\Anaconda3\\lib\\site-packages\\pandas\\io\\excel\\_base.py\u001b[0m in \u001b[0;36m__init__\u001b[1;34m(self, path_or_buffer, engine, storage_options)\u001b[0m\n\u001b[0;32m   1069\u001b[0m                 \u001b[0mext\u001b[0m \u001b[1;33m=\u001b[0m \u001b[1;34m\"xls\"\u001b[0m\u001b[1;33m\u001b[0m\u001b[1;33m\u001b[0m\u001b[0m\n\u001b[0;32m   1070\u001b[0m             \u001b[1;32melse\u001b[0m\u001b[1;33m:\u001b[0m\u001b[1;33m\u001b[0m\u001b[1;33m\u001b[0m\u001b[0m\n\u001b[1;32m-> 1071\u001b[1;33m                 ext = inspect_excel_format(\n\u001b[0m\u001b[0;32m   1072\u001b[0m                     \u001b[0mcontent\u001b[0m\u001b[1;33m=\u001b[0m\u001b[0mpath_or_buffer\u001b[0m\u001b[1;33m,\u001b[0m \u001b[0mstorage_options\u001b[0m\u001b[1;33m=\u001b[0m\u001b[0mstorage_options\u001b[0m\u001b[1;33m\u001b[0m\u001b[1;33m\u001b[0m\u001b[0m\n\u001b[0;32m   1073\u001b[0m                 )\n",
      "\u001b[1;32mC:\\ProgramData\\Anaconda3\\lib\\site-packages\\pandas\\io\\excel\\_base.py\u001b[0m in \u001b[0;36minspect_excel_format\u001b[1;34m(path, content, storage_options)\u001b[0m\n\u001b[0;32m    947\u001b[0m     \u001b[1;32massert\u001b[0m \u001b[0mcontent_or_path\u001b[0m \u001b[1;32mis\u001b[0m \u001b[1;32mnot\u001b[0m \u001b[1;32mNone\u001b[0m\u001b[1;33m\u001b[0m\u001b[1;33m\u001b[0m\u001b[0m\n\u001b[0;32m    948\u001b[0m \u001b[1;33m\u001b[0m\u001b[0m\n\u001b[1;32m--> 949\u001b[1;33m     with get_handle(\n\u001b[0m\u001b[0;32m    950\u001b[0m         \u001b[0mcontent_or_path\u001b[0m\u001b[1;33m,\u001b[0m \u001b[1;34m\"rb\"\u001b[0m\u001b[1;33m,\u001b[0m \u001b[0mstorage_options\u001b[0m\u001b[1;33m=\u001b[0m\u001b[0mstorage_options\u001b[0m\u001b[1;33m,\u001b[0m \u001b[0mis_text\u001b[0m\u001b[1;33m=\u001b[0m\u001b[1;32mFalse\u001b[0m\u001b[1;33m\u001b[0m\u001b[1;33m\u001b[0m\u001b[0m\n\u001b[0;32m    951\u001b[0m     ) as handle:\n",
      "\u001b[1;32mC:\\ProgramData\\Anaconda3\\lib\\site-packages\\pandas\\io\\common.py\u001b[0m in \u001b[0;36mget_handle\u001b[1;34m(path_or_buf, mode, encoding, compression, memory_map, is_text, errors, storage_options)\u001b[0m\n\u001b[0;32m    649\u001b[0m         \u001b[1;32melse\u001b[0m\u001b[1;33m:\u001b[0m\u001b[1;33m\u001b[0m\u001b[1;33m\u001b[0m\u001b[0m\n\u001b[0;32m    650\u001b[0m             \u001b[1;31m# Binary mode\u001b[0m\u001b[1;33m\u001b[0m\u001b[1;33m\u001b[0m\u001b[1;33m\u001b[0m\u001b[0m\n\u001b[1;32m--> 651\u001b[1;33m             \u001b[0mhandle\u001b[0m \u001b[1;33m=\u001b[0m \u001b[0mopen\u001b[0m\u001b[1;33m(\u001b[0m\u001b[0mhandle\u001b[0m\u001b[1;33m,\u001b[0m \u001b[0mioargs\u001b[0m\u001b[1;33m.\u001b[0m\u001b[0mmode\u001b[0m\u001b[1;33m)\u001b[0m\u001b[1;33m\u001b[0m\u001b[1;33m\u001b[0m\u001b[0m\n\u001b[0m\u001b[0;32m    652\u001b[0m         \u001b[0mhandles\u001b[0m\u001b[1;33m.\u001b[0m\u001b[0mappend\u001b[0m\u001b[1;33m(\u001b[0m\u001b[0mhandle\u001b[0m\u001b[1;33m)\u001b[0m\u001b[1;33m\u001b[0m\u001b[1;33m\u001b[0m\u001b[0m\n\u001b[0;32m    653\u001b[0m \u001b[1;33m\u001b[0m\u001b[0m\n",
      "\u001b[1;31mFileNotFoundError\u001b[0m: [Errno 2] No such file or directory: 'examplebulkdata.xls'"
     ]
    }
   ],
   "source": [
    "tested_input = pd.read_excel('examplebulkdata.xls')"
   ]
  },
  {
   "cell_type": "code",
   "execution_count": 27,
   "id": "34562826-0019-47c2-9a0c-a936001722e1",
   "metadata": {},
   "outputs": [],
   "source": [
    "# import categories from each examn ( SANGRE, ORINA, etc)abs\n",
    "category_exams = pd.read_csv('category_exams.csv')"
   ]
  },
  {
   "cell_type": "code",
   "execution_count": 28,
   "id": "fd0293ef-96dc-4815-8fa6-382cbe37fc8d",
   "metadata": {},
   "outputs": [],
   "source": [
    "novus_output = novus_output.rename(columns={\"Valor\": \"result\" , 'Prestación Estructura': 'nameIndicator',\"Unidad\": \"unitMeasurement\", \"Fecha\":\"createdAt\",\"CodFonasa\":\"code\",\"Orden\":\"requestId\", \"Documento\":\"clientID\" , \"Paciente\": \"ClientName\" , \"CodInterno\":\"codeInternal\" , \"Prestacion Orden\":\"nameExam\"})"
   ]
  },
  {
   "cell_type": "code",
   "execution_count": 29,
   "id": "c0d244d7-32be-4651-ac7b-c7c532306db1",
   "metadata": {},
   "outputs": [],
   "source": [
    "#Eliminar columnas que no estan en el upload masivo \n",
    "# Drop columns\n",
    "novus_output = novus_output.drop([\"Programa\" , \"Edad\" , \"Sexo\"], axis = 1)\n",
    "novus_output = novus_output[novus_output.columns.drop(list(novus_output.filter(regex='Unnamed')))]"
   ]
  },
  {
   "cell_type": "code",
   "execution_count": 31,
   "id": "be2aa314-a34a-4001-81e4-cd50ee998335",
   "metadata": {},
   "outputs": [
    {
     "data": {
      "text/plain": [
       "(9892, 12)"
      ]
     },
     "execution_count": 31,
     "metadata": {},
     "output_type": "execute_result"
    }
   ],
   "source": [
    "novus_output.shape"
   ]
  },
  {
   "cell_type": "code",
   "execution_count": 32,
   "id": "686f8f29-25fd-4b99-8b95-8584e571d3ec",
   "metadata": {},
   "outputs": [],
   "source": [
    "# Create emptshape = shapes\n",
    "novus_output['requestStatus'] = 1\n",
    "novus_output['examStatus'] = 1\n",
    "novus_output['outOfRange'] = True"
   ]
  },
  {
   "cell_type": "code",
   "execution_count": 33,
   "id": "aa3a2fae-ac52-4a20-804a-3c97b3ad9c04",
   "metadata": {},
   "outputs": [],
   "source": [
    "loinc_db = pd.read_csv('prestacion_combinaciones_2.csv' , sep='\\t',error_bad_lines=False)"
   ]
  },
  {
   "cell_type": "code",
   "execution_count": 34,
   "id": "a4507bd4-afdb-4a09-8454-677345161d3e",
   "metadata": {},
   "outputs": [
    {
     "data": {
      "text/plain": [
       "Index(['createdAt', 'requestId', 'clientID', 'ClientName', 'codeInternal',\n",
       "       'code', 'nameExam', 'nameIndicator', 'result', 'unitMeasurement',\n",
       "       'Rango Ref', 'Estado', 'requestStatus', 'examStatus', 'outOfRange'],\n",
       "      dtype='object')"
      ]
     },
     "execution_count": 34,
     "metadata": {},
     "output_type": "execute_result"
    }
   ],
   "source": [
    "novus_output.columns"
   ]
  },
  {
   "cell_type": "code",
   "execution_count": 35,
   "id": "2005601c-7f2f-4d1f-8524-4d0fb7966c8c",
   "metadata": {},
   "outputs": [],
   "source": [
    "novus_output = pd.merge(left=novus_output, right=loinc_db, how='left', left_on=['nameExam','nameIndicator'], right_on=['Prestacion Orden', 'Prestación Estructura'])"
   ]
  },
  {
   "cell_type": "code",
   "execution_count": 37,
   "id": "3ab334b9-03d6-414d-b86c-d7267dc63441",
   "metadata": {},
   "outputs": [
    {
     "data": {
      "text/html": [
       "<div>\n",
       "<style scoped>\n",
       "    .dataframe tbody tr th:only-of-type {\n",
       "        vertical-align: middle;\n",
       "    }\n",
       "\n",
       "    .dataframe tbody tr th {\n",
       "        vertical-align: top;\n",
       "    }\n",
       "\n",
       "    .dataframe thead th {\n",
       "        text-align: right;\n",
       "    }\n",
       "</style>\n",
       "<table border=\"1\" class=\"dataframe\">\n",
       "  <thead>\n",
       "    <tr style=\"text-align: right;\">\n",
       "      <th></th>\n",
       "      <th>createdAt</th>\n",
       "      <th>requestId</th>\n",
       "      <th>clientID</th>\n",
       "      <th>ClientName</th>\n",
       "      <th>codeInternal</th>\n",
       "      <th>code</th>\n",
       "      <th>nameExam</th>\n",
       "      <th>nameIndicator</th>\n",
       "      <th>result</th>\n",
       "      <th>unitMeasurement</th>\n",
       "      <th>Rango Ref</th>\n",
       "      <th>Estado</th>\n",
       "      <th>requestStatus</th>\n",
       "      <th>examStatus</th>\n",
       "      <th>outOfRange</th>\n",
       "      <th>Prestacion Orden</th>\n",
       "      <th>Prestación Estructura</th>\n",
       "      <th>LOINC_NUM</th>\n",
       "    </tr>\n",
       "  </thead>\n",
       "  <tbody>\n",
       "    <tr>\n",
       "      <th>0</th>\n",
       "      <td>2022-06-01 08:11:04</td>\n",
       "      <td>1101453</td>\n",
       "      <td>4771298-K</td>\n",
       "      <td>JORGE REINALDO VENEGAS GALAZ</td>\n",
       "      <td>0305070</td>\n",
       "      <td>0305070</td>\n",
       "      <td>ANTIGENO PROSTATICO ESPECIFICO, ng/mL</td>\n",
       "      <td>ANTIGENO PROSTATICO ESPECIFICO, ng/mL</td>\n",
       "      <td>1.5</td>\n",
       "      <td>ng/mL</td>\n",
       "      <td>0 - 4</td>\n",
       "      <td>NaN</td>\n",
       "      <td>1</td>\n",
       "      <td>1</td>\n",
       "      <td>True</td>\n",
       "      <td>ANTIGENO PROSTATICO ESPECIFICO, ng/mL</td>\n",
       "      <td>ANTIGENO PROSTATICO ESPECIFICO, ng/mL</td>\n",
       "      <td>NaN</td>\n",
       "    </tr>\n",
       "    <tr>\n",
       "      <th>1</th>\n",
       "      <td>2022-06-01 08:11:04</td>\n",
       "      <td>1101453</td>\n",
       "      <td>4771298-K</td>\n",
       "      <td>JORGE REINALDO VENEGAS GALAZ</td>\n",
       "      <td>0305104</td>\n",
       "      <td>0305104</td>\n",
       "      <td>ANTIGENO PROSTATICO LIBRE, ng/mL</td>\n",
       "      <td>ANTIGENO PROSTATICO ESPECIFICO, ng/mL</td>\n",
       "      <td>1.50</td>\n",
       "      <td>ng/mL</td>\n",
       "      <td>0 - 4</td>\n",
       "      <td>NaN</td>\n",
       "      <td>1</td>\n",
       "      <td>1</td>\n",
       "      <td>True</td>\n",
       "      <td>ANTIGENO PROSTATICO LIBRE, ng/mL</td>\n",
       "      <td>ANTIGENO PROSTATICO ESPECIFICO, ng/mL</td>\n",
       "      <td>NaN</td>\n",
       "    </tr>\n",
       "    <tr>\n",
       "      <th>2</th>\n",
       "      <td>2022-06-01 08:11:04</td>\n",
       "      <td>1101453</td>\n",
       "      <td>4771298-K</td>\n",
       "      <td>JORGE REINALDO VENEGAS GALAZ</td>\n",
       "      <td>0305104</td>\n",
       "      <td>0305104</td>\n",
       "      <td>ANTIGENO PROSTATICO LIBRE, ng/mL</td>\n",
       "      <td>INDICE PSA-L/PSA-T</td>\n",
       "      <td>30.67</td>\n",
       "      <td>%</td>\n",
       "      <td>Alta probabilidad de HPB: &gt;25Indeterminado: 7 ...</td>\n",
       "      <td>NaN</td>\n",
       "      <td>1</td>\n",
       "      <td>1</td>\n",
       "      <td>True</td>\n",
       "      <td>ANTIGENO PROSTATICO LIBRE, ng/mL</td>\n",
       "      <td>INDICE PSA-L/PSA-T</td>\n",
       "      <td>NaN</td>\n",
       "    </tr>\n",
       "    <tr>\n",
       "      <th>3</th>\n",
       "      <td>2022-06-01 08:11:04</td>\n",
       "      <td>1101453</td>\n",
       "      <td>4771298-K</td>\n",
       "      <td>JORGE REINALDO VENEGAS GALAZ</td>\n",
       "      <td>0305104</td>\n",
       "      <td>0305104</td>\n",
       "      <td>ANTIGENO PROSTATICO LIBRE, ng/mL</td>\n",
       "      <td>ANTIGENO PROSTATICO LIBRE, ng/mL</td>\n",
       "      <td>0.46</td>\n",
       "      <td>ng/mL</td>\n",
       "      <td>Para valores de PSA total entre 4,0 y 10,0 ng/...</td>\n",
       "      <td>NaN</td>\n",
       "      <td>1</td>\n",
       "      <td>1</td>\n",
       "      <td>True</td>\n",
       "      <td>ANTIGENO PROSTATICO LIBRE, ng/mL</td>\n",
       "      <td>ANTIGENO PROSTATICO LIBRE, ng/mL</td>\n",
       "      <td>NaN</td>\n",
       "    </tr>\n",
       "    <tr>\n",
       "      <th>4</th>\n",
       "      <td>2022-06-01 08:23:59</td>\n",
       "      <td>1101454</td>\n",
       "      <td>22275387</td>\n",
       "      <td>ELIECER ISAAC ARENAS GIMENEZ</td>\n",
       "      <td>0302076</td>\n",
       "      <td>0302076</td>\n",
       "      <td>PERFIL HEPÁTICO</td>\n",
       "      <td>TRANSAMINASA GPT/ALT, U/L</td>\n",
       "      <td>26</td>\n",
       "      <td>U/L</td>\n",
       "      <td>10 - 49</td>\n",
       "      <td>NaN</td>\n",
       "      <td>1</td>\n",
       "      <td>1</td>\n",
       "      <td>True</td>\n",
       "      <td>PERFIL HEPÁTICO</td>\n",
       "      <td>TRANSAMINASA GPT/ALT, U/L</td>\n",
       "      <td>1742-6</td>\n",
       "    </tr>\n",
       "  </tbody>\n",
       "</table>\n",
       "</div>"
      ],
      "text/plain": [
       "            createdAt  requestId   clientID                    ClientName  \\\n",
       "0 2022-06-01 08:11:04    1101453  4771298-K  JORGE REINALDO VENEGAS GALAZ   \n",
       "1 2022-06-01 08:11:04    1101453  4771298-K  JORGE REINALDO VENEGAS GALAZ   \n",
       "2 2022-06-01 08:11:04    1101453  4771298-K  JORGE REINALDO VENEGAS GALAZ   \n",
       "3 2022-06-01 08:11:04    1101453  4771298-K  JORGE REINALDO VENEGAS GALAZ   \n",
       "4 2022-06-01 08:23:59    1101454   22275387  ELIECER ISAAC ARENAS GIMENEZ   \n",
       "\n",
       "  codeInternal     code                               nameExam  \\\n",
       "0      0305070  0305070  ANTIGENO PROSTATICO ESPECIFICO, ng/mL   \n",
       "1      0305104  0305104       ANTIGENO PROSTATICO LIBRE, ng/mL   \n",
       "2      0305104  0305104       ANTIGENO PROSTATICO LIBRE, ng/mL   \n",
       "3      0305104  0305104       ANTIGENO PROSTATICO LIBRE, ng/mL   \n",
       "4      0302076  0302076                        PERFIL HEPÁTICO   \n",
       "\n",
       "                           nameIndicator result unitMeasurement  \\\n",
       "0  ANTIGENO PROSTATICO ESPECIFICO, ng/mL    1.5           ng/mL   \n",
       "1  ANTIGENO PROSTATICO ESPECIFICO, ng/mL   1.50           ng/mL   \n",
       "2                     INDICE PSA-L/PSA-T  30.67               %   \n",
       "3       ANTIGENO PROSTATICO LIBRE, ng/mL   0.46           ng/mL   \n",
       "4              TRANSAMINASA GPT/ALT, U/L     26             U/L   \n",
       "\n",
       "                                           Rango Ref Estado  requestStatus  \\\n",
       "0                                              0 - 4    NaN              1   \n",
       "1                                              0 - 4    NaN              1   \n",
       "2  Alta probabilidad de HPB: >25Indeterminado: 7 ...    NaN              1   \n",
       "3  Para valores de PSA total entre 4,0 y 10,0 ng/...    NaN              1   \n",
       "4                                            10 - 49    NaN              1   \n",
       "\n",
       "   examStatus  outOfRange                       Prestacion Orden  \\\n",
       "0           1        True  ANTIGENO PROSTATICO ESPECIFICO, ng/mL   \n",
       "1           1        True       ANTIGENO PROSTATICO LIBRE, ng/mL   \n",
       "2           1        True       ANTIGENO PROSTATICO LIBRE, ng/mL   \n",
       "3           1        True       ANTIGENO PROSTATICO LIBRE, ng/mL   \n",
       "4           1        True                        PERFIL HEPÁTICO   \n",
       "\n",
       "                   Prestación Estructura LOINC_NUM  \n",
       "0  ANTIGENO PROSTATICO ESPECIFICO, ng/mL       NaN  \n",
       "1  ANTIGENO PROSTATICO ESPECIFICO, ng/mL       NaN  \n",
       "2                     INDICE PSA-L/PSA-T       NaN  \n",
       "3       ANTIGENO PROSTATICO LIBRE, ng/mL       NaN  \n",
       "4              TRANSAMINASA GPT/ALT, U/L    1742-6  "
      ]
     },
     "execution_count": 37,
     "metadata": {},
     "output_type": "execute_result"
    }
   ],
   "source": [
    "novus_output.head()"
   ]
  },
  {
   "cell_type": "code",
   "execution_count": null,
   "id": "aa03449d-5184-4ed4-a3b8-1bb601ae2e7d",
   "metadata": {},
   "outputs": [],
   "source": []
  }
 ],
 "metadata": {
  "kernelspec": {
   "display_name": "Python 3",
   "language": "python",
   "name": "python3"
  },
  "language_info": {
   "codemirror_mode": {
    "name": "ipython",
    "version": 3
   },
   "file_extension": ".py",
   "mimetype": "text/x-python",
   "name": "python",
   "nbconvert_exporter": "python",
   "pygments_lexer": "ipython3",
   "version": "3.8.8"
  }
 },
 "nbformat": 4,
 "nbformat_minor": 5
}
